{
  "cells": [
    {
      "cell_type": "code",
      "execution_count": 1,
      "metadata": {
        "colab": {
          "base_uri": "https://localhost:8080/"
        },
        "id": "VxS1_SD4eiYW",
        "outputId": "9803a182-ea80-4d02-9cdb-ddeff4d3b9f2"
      },
      "outputs": [],
      "source": [
        "# import libraries\n",
        "import gc\n",
        "import sys\n",
        "import os\n",
        "import torch\n",
        "import torch.nn as nn\n",
        "import torch.nn.functional as F\n",
        "from torch.autograd import Variable\n",
        "import numpy as np\n",
        "from tqdm import tqdm\n",
        "import lightning.pytorch as pl\n",
        "\n",
        "gc.collect()\n",
        "torch.cuda.empty_cache()\n",
        "\n",
        "os.environ['CUDA_LAUNCH_BLOCKING'] = '1'\n",
        "\n",
        "os.chdir('/home/nico/dev/projects/ai/musai')\n",
        "\n",
        "sys.path.append('./src/tools')\n",
        "sys.path.append('./src/model')"
      ]
    },
    {
      "cell_type": "code",
      "execution_count": 4,
      "metadata": {
        "id": "3D-WVgy7fuVo"
      },
      "outputs": [
        {
          "data": {
            "text/plain": [
              "device(type='cuda')"
            ]
          },
          "execution_count": 4,
          "metadata": {},
          "output_type": "execute_result"
        }
      ],
      "source": [
        "from embed import DEVICE, LR, DROPOUT, VAE\n",
        "\n",
        "BATCH_SIZE = 4\n",
        "X_DIM = 1024\n",
        "EPOCHS = 3000\n",
        "EPOCH_BEGIN = 199\n",
        "EMBED_DIM = 1024\n",
        "VOCAB_SIZE = 560\n",
        "LATENT_DIM = 256\n",
        "HIDDEN_DIM = 1024\n",
        "\n",
        "PARAMS = {\n",
        "    'batch': BATCH_SIZE,\n",
        "    'x_dim': X_DIM,\n",
        "    'embed_dim': EMBED_DIM,\n",
        "    'hidden_dim': HIDDEN_DIM,\n",
        "    'vocab_size': VOCAB_SIZE,\n",
        "    'latent_dim': LATENT_DIM,\n",
        "    'dropout': DROPOUT,\n",
        "    'lr': LR\n",
        "}\n",
        "\n",
        "DEVICE"
      ]
    },
    {
      "cell_type": "code",
      "execution_count": 5,
      "metadata": {
        "colab": {
          "base_uri": "https://localhost:8080/"
        },
        "id": "3sxu27xel11f",
        "outputId": "5233bc52-56e0-43af-83ac-03b3ddf5d4c5"
      },
      "outputs": [
        {
          "data": {
            "text/plain": [
              "VAE(\n",
              "  (emb): Embedding(560, 1024, padding_idx=0)\n",
              "  (encoder): Encoder(\n",
              "    (module): Sequential(\n",
              "      (0): Linear(in_features=1024, out_features=4096, bias=False)\n",
              "      (1): Sequential(\n",
              "        (0): Linear(in_features=4096, out_features=2048, bias=False)\n",
              "        (1): LeakyReLU(negative_slope=0.2)\n",
              "      )\n",
              "      (2): Dropout(p=0.1, inplace=False)\n",
              "      (3): Sequential(\n",
              "        (0): Linear(in_features=2048, out_features=1024, bias=False)\n",
              "        (1): LeakyReLU(negative_slope=0.2)\n",
              "      )\n",
              "      (4): Sequential(\n",
              "        (0): Linear(in_features=1024, out_features=512, bias=False)\n",
              "        (1): LeakyReLU(negative_slope=0.2)\n",
              "      )\n",
              "      (5): Sequential(\n",
              "        (0): Linear(in_features=512, out_features=256, bias=False)\n",
              "        (1): LeakyReLU(negative_slope=0.2)\n",
              "      )\n",
              "    )\n",
              "    (fc_mean): Linear(in_features=256, out_features=256, bias=True)\n",
              "    (fc_logvar): Linear(in_features=256, out_features=256, bias=True)\n",
              "  )\n",
              "  (decoder): Decoder(\n",
              "    (module): Sequential(\n",
              "      (0): Linear(in_features=256, out_features=256, bias=False)\n",
              "      (1): Sequential(\n",
              "        (0): Linear(in_features=256, out_features=512, bias=False)\n",
              "        (1): LeakyReLU(negative_slope=0.2)\n",
              "      )\n",
              "      (2): Sequential(\n",
              "        (0): Linear(in_features=512, out_features=1024, bias=False)\n",
              "        (1): LeakyReLU(negative_slope=0.2)\n",
              "      )\n",
              "      (3): Sequential(\n",
              "        (0): Linear(in_features=1024, out_features=2048, bias=False)\n",
              "        (1): LeakyReLU(negative_slope=0.2)\n",
              "      )\n",
              "      (4): Sequential(\n",
              "        (0): Linear(in_features=2048, out_features=4096, bias=False)\n",
              "        (1): LeakyReLU(negative_slope=0.2)\n",
              "      )\n",
              "      (5): Linear(in_features=4096, out_features=1024, bias=False)\n",
              "    )\n",
              "  )\n",
              "  (z_emb): Linear(in_features=256, out_features=1024, bias=False)\n",
              "  (proj): Linear(in_features=1024, out_features=560, bias=True)\n",
              "  (ln_out): LayerNorm((560,), eps=1e-05, elementwise_affine=True)\n",
              ")"
            ]
          },
          "execution_count": 5,
          "metadata": {},
          "output_type": "execute_result"
        }
      ],
      "source": [
        "# model = VAE(EMBED_DIM, LATENT_DIM, hidden_dims=[HIDDEN_DIM*4,\n",
        "#             HIDDEN_DIM*2, HIDDEN_DIM, HIDDEN_DIM//2], vocab_size=560)\n",
        "model = VAE.from_pretrained(\n",
        "    f'out/all/embvae_{EPOCH_BEGIN}.pth',\n",
        "    vocab_size=VOCAB_SIZE,\n",
        "    embed_dim=EMBED_DIM,\n",
        "    latent_dim=LATENT_DIM,\n",
        "    hidden_dim=HIDDEN_DIM\n",
        ")\n",
        "\n",
        "model\n"
      ]
    },
    {
      "cell_type": "code",
      "execution_count": 6,
      "metadata": {},
      "outputs": [
        {
          "data": {
            "text/plain": [
              "torch.Size([182551, 1024])"
            ]
          },
          "execution_count": 6,
          "metadata": {},
          "output_type": "execute_result"
        }
      ],
      "source": [
        "from pathlib import Path\n",
        "from torch.nn.utils.rnn import pad_sequence\n",
        "from torch.utils.data import TensorDataset, DataLoader\n",
        "import json\n",
        "\n",
        "paths = list(\n",
        "    Path('/home/nico/data/ai/models/midi/all/').glob('*_mid.json'))\n",
        "\n",
        "tokens = []\n",
        "\n",
        "for path in paths:\n",
        "  tokens += json.load(open(path))['ids']\n",
        "\n",
        "ids = torch.LongTensor(tokens)\n",
        "ids = torch.split(ids, X_DIM)\n",
        "ids = pad_sequence(ids, batch_first=True)\n",
        "dataset = TensorDataset(ids)\n",
        "data_loader = DataLoader(dataset, pin_memory=True, batch_size=BATCH_SIZE)\n",
        "\n",
        "ids.shape\n"
      ]
    },
    {
      "cell_type": "code",
      "execution_count": null,
      "metadata": {},
      "outputs": [],
      "source": [
        "from lightning.pytorch.callbacks import Callback\n",
        "import datetime\n",
        "\n",
        "EPOCHS_SAVE = 1\n",
        "\n",
        "\n",
        "class TrainCallback(Callback):\n",
        "    def on_train_epoch_start(self, trainer, pl_module):\n",
        "        if trainer.is_global_zero:\n",
        "            if trainer.global_step == 0:\n",
        "                timestamp = datetime.datetime.today().strftime(\"%Y-%m-%d-%H-%M-%S\")\n",
        "                log = open('./embvae-train_log.txt', 'a')\n",
        "\n",
        "                log.write(f'NEW RUN {timestamp}\\n{PARAMS}\\n')\n",
        "\n",
        "    def on_train_epoch_end(self, trainer, pl_module):\n",
        "        if trainer.is_global_zero:  # logging & save state_dict\n",
        "            if (trainer.current_epoch % EPOCHS_SAVE == 0):\n",
        "                to_save_dict = pl_module.state_dict()\n",
        "\n",
        "                try:\n",
        "                    torch.save(\n",
        "                        to_save_dict,\n",
        "                        f'./embvae-{VOCAB_SIZE}x{EMBED_DIM}x{HIDDEN_DIM}-{EPOCH_BEGIN + 1 + trainer.current_epoch}.pth',\n",
        "                    )\n",
        "                except Exception as error:\n",
        "                    print(error)\n",
        "\n",
        "    def on_train_batch_start(self, trainer, pl_module, batch, batch_idx):\n",
        "        if trainer.is_global_zero:\n",
        "            param_groups = trainer.optimizers[0].param_groups\n",
        "            lr = param_groups[-1]['lr']\n",
        "\n",
        "    def on_train_batch_end(self, trainer, pl_module, outputs, batch, batch_idx):\n",
        "        if trainer.is_global_zero:\n",
        "            param_groups = trainer.optimizers[0].param_groups\n",
        "            lr = param_groups[-1]['lr']\n"
      ]
    },
    {
      "cell_type": "code",
      "execution_count": null,
      "metadata": {
        "colab": {
          "base_uri": "https://localhost:8080/",
          "height": 1000,
          "referenced_widgets": [
            "36ec6daaa9c84ec4bce791c5ca7b693a",
            "4be857ccf05f4bb9b92e3a6deef704e7",
            "0fc69e9cd36d4ed5aef27c39c5e5cc3b",
            "c3c448f7c4f6444e98cfc60c24a373a9",
            "3b08fc4c6c9c48d8b942141e833c4b6f",
            "4af022d65a5b405899de554a8b0e6ce8",
            "5ec108775f6f4b789391a38e9bd59c89",
            "9de3008bfabc446c8575676e0cb71323",
            "25b9fea67d674935bbf2242be51762f2",
            "15f0b06678c347bdbb41f9f78f2d41c9",
            "2c15079f5c864eef9d305a146a4edb05"
          ]
        },
        "id": "6eqKDfhkM_9-",
        "outputId": "e5155dc8-bd69-478f-b6d7-77df55b651e0"
      },
      "outputs": [],
      "source": [
        "trainer = pl.Trainer(\n",
        "    devices='auto',\n",
        "    max_epochs=100000,\n",
        "    accelerator=\"auto\",\n",
        "    log_every_n_steps=100,\n",
        "    callbacks=[\n",
        "        TrainCallback()\n",
        "    ],\n",
        "    enable_checkpointing=False,\n",
        "    limit_train_batches=3000\n",
        ")\n",
        "trainer.fit(model=model, train_dataloaders=data_loader)\n"
      ]
    },
    {
      "cell_type": "code",
      "execution_count": 8,
      "metadata": {},
      "outputs": [
        {
          "data": {
            "text/plain": [
              "tensor(0.0109, device='cuda:0')"
            ]
          },
          "execution_count": 8,
          "metadata": {},
          "output_type": "execute_result"
        }
      ],
      "source": [
        "import torch.nn.functional as F\n",
        "\n",
        "model.to(DEVICE)\n",
        "model.eval()\n",
        "\n",
        "sample = dataset[np.random.randint(0, len(dataset)-1)][0]\n",
        "\n",
        "with torch.no_grad():\n",
        "    output, emb_hat, emb, hidden, mean, log_var = model(sample.to(DEVICE))\n",
        "\n",
        "F.mse_loss(emb_hat, emb)"
      ]
    }
  ],
  "metadata": {
    "accelerator": "GPU",
    "colab": {
      "gpuType": "T4",
      "machine_shape": "hm",
      "provenance": []
    },
    "kernelspec": {
      "display_name": "Python 3 (ipykernel)",
      "language": "python",
      "name": "python3"
    },
    "language_info": {
      "codemirror_mode": {
        "name": "ipython",
        "version": 3
      },
      "file_extension": ".py",
      "mimetype": "text/x-python",
      "name": "python",
      "nbconvert_exporter": "python",
      "pygments_lexer": "ipython3",
      "version": "3.10.11"
    },
    "vscode": {
      "interpreter": {
        "hash": "324c59c51086f4574d8cdca1e3c0b1230dd2abd272c806cb05bd1db673024182"
      }
    },
    "widgets": {
      "application/vnd.jupyter.widget-state+json": {
        "0fc69e9cd36d4ed5aef27c39c5e5cc3b": {
          "model_module": "@jupyter-widgets/controls",
          "model_module_version": "1.5.0",
          "model_name": "FloatProgressModel",
          "state": {
            "_dom_classes": [],
            "_model_module": "@jupyter-widgets/controls",
            "_model_module_version": "1.5.0",
            "_model_name": "FloatProgressModel",
            "_view_count": null,
            "_view_module": "@jupyter-widgets/controls",
            "_view_module_version": "1.5.0",
            "_view_name": "ProgressView",
            "bar_style": "",
            "description": "",
            "description_tooltip": null,
            "layout": "IPY_MODEL_9de3008bfabc446c8575676e0cb71323",
            "max": 54,
            "min": 0,
            "orientation": "horizontal",
            "style": "IPY_MODEL_25b9fea67d674935bbf2242be51762f2",
            "value": 0
          }
        },
        "15f0b06678c347bdbb41f9f78f2d41c9": {
          "model_module": "@jupyter-widgets/base",
          "model_module_version": "1.2.0",
          "model_name": "LayoutModel",
          "state": {
            "_model_module": "@jupyter-widgets/base",
            "_model_module_version": "1.2.0",
            "_model_name": "LayoutModel",
            "_view_count": null,
            "_view_module": "@jupyter-widgets/base",
            "_view_module_version": "1.2.0",
            "_view_name": "LayoutView",
            "align_content": null,
            "align_items": null,
            "align_self": null,
            "border": null,
            "bottom": null,
            "display": null,
            "flex": null,
            "flex_flow": null,
            "grid_area": null,
            "grid_auto_columns": null,
            "grid_auto_flow": null,
            "grid_auto_rows": null,
            "grid_column": null,
            "grid_gap": null,
            "grid_row": null,
            "grid_template_areas": null,
            "grid_template_columns": null,
            "grid_template_rows": null,
            "height": null,
            "justify_content": null,
            "justify_items": null,
            "left": null,
            "margin": null,
            "max_height": null,
            "max_width": null,
            "min_height": null,
            "min_width": null,
            "object_fit": null,
            "object_position": null,
            "order": null,
            "overflow": null,
            "overflow_x": null,
            "overflow_y": null,
            "padding": null,
            "right": null,
            "top": null,
            "visibility": null,
            "width": null
          }
        },
        "25b9fea67d674935bbf2242be51762f2": {
          "model_module": "@jupyter-widgets/controls",
          "model_module_version": "1.5.0",
          "model_name": "ProgressStyleModel",
          "state": {
            "_model_module": "@jupyter-widgets/controls",
            "_model_module_version": "1.5.0",
            "_model_name": "ProgressStyleModel",
            "_view_count": null,
            "_view_module": "@jupyter-widgets/base",
            "_view_module_version": "1.2.0",
            "_view_name": "StyleView",
            "bar_color": null,
            "description_width": ""
          }
        },
        "2c15079f5c864eef9d305a146a4edb05": {
          "model_module": "@jupyter-widgets/controls",
          "model_module_version": "1.5.0",
          "model_name": "DescriptionStyleModel",
          "state": {
            "_model_module": "@jupyter-widgets/controls",
            "_model_module_version": "1.5.0",
            "_model_name": "DescriptionStyleModel",
            "_view_count": null,
            "_view_module": "@jupyter-widgets/base",
            "_view_module_version": "1.2.0",
            "_view_name": "StyleView",
            "description_width": ""
          }
        },
        "36ec6daaa9c84ec4bce791c5ca7b693a": {
          "model_module": "@jupyter-widgets/controls",
          "model_module_version": "1.5.0",
          "model_name": "HBoxModel",
          "state": {
            "_dom_classes": [],
            "_model_module": "@jupyter-widgets/controls",
            "_model_module_version": "1.5.0",
            "_model_name": "HBoxModel",
            "_view_count": null,
            "_view_module": "@jupyter-widgets/controls",
            "_view_module_version": "1.5.0",
            "_view_name": "HBoxView",
            "box_style": "",
            "children": [
              "IPY_MODEL_4be857ccf05f4bb9b92e3a6deef704e7",
              "IPY_MODEL_0fc69e9cd36d4ed5aef27c39c5e5cc3b",
              "IPY_MODEL_c3c448f7c4f6444e98cfc60c24a373a9"
            ],
            "layout": "IPY_MODEL_3b08fc4c6c9c48d8b942141e833c4b6f"
          }
        },
        "3b08fc4c6c9c48d8b942141e833c4b6f": {
          "model_module": "@jupyter-widgets/base",
          "model_module_version": "1.2.0",
          "model_name": "LayoutModel",
          "state": {
            "_model_module": "@jupyter-widgets/base",
            "_model_module_version": "1.2.0",
            "_model_name": "LayoutModel",
            "_view_count": null,
            "_view_module": "@jupyter-widgets/base",
            "_view_module_version": "1.2.0",
            "_view_name": "LayoutView",
            "align_content": null,
            "align_items": null,
            "align_self": null,
            "border": null,
            "bottom": null,
            "display": "inline-flex",
            "flex": null,
            "flex_flow": "row wrap",
            "grid_area": null,
            "grid_auto_columns": null,
            "grid_auto_flow": null,
            "grid_auto_rows": null,
            "grid_column": null,
            "grid_gap": null,
            "grid_row": null,
            "grid_template_areas": null,
            "grid_template_columns": null,
            "grid_template_rows": null,
            "height": null,
            "justify_content": null,
            "justify_items": null,
            "left": null,
            "margin": null,
            "max_height": null,
            "max_width": null,
            "min_height": null,
            "min_width": null,
            "object_fit": null,
            "object_position": null,
            "order": null,
            "overflow": null,
            "overflow_x": null,
            "overflow_y": null,
            "padding": null,
            "right": null,
            "top": null,
            "visibility": null,
            "width": "100%"
          }
        },
        "4af022d65a5b405899de554a8b0e6ce8": {
          "model_module": "@jupyter-widgets/base",
          "model_module_version": "1.2.0",
          "model_name": "LayoutModel",
          "state": {
            "_model_module": "@jupyter-widgets/base",
            "_model_module_version": "1.2.0",
            "_model_name": "LayoutModel",
            "_view_count": null,
            "_view_module": "@jupyter-widgets/base",
            "_view_module_version": "1.2.0",
            "_view_name": "LayoutView",
            "align_content": null,
            "align_items": null,
            "align_self": null,
            "border": null,
            "bottom": null,
            "display": null,
            "flex": null,
            "flex_flow": null,
            "grid_area": null,
            "grid_auto_columns": null,
            "grid_auto_flow": null,
            "grid_auto_rows": null,
            "grid_column": null,
            "grid_gap": null,
            "grid_row": null,
            "grid_template_areas": null,
            "grid_template_columns": null,
            "grid_template_rows": null,
            "height": null,
            "justify_content": null,
            "justify_items": null,
            "left": null,
            "margin": null,
            "max_height": null,
            "max_width": null,
            "min_height": null,
            "min_width": null,
            "object_fit": null,
            "object_position": null,
            "order": null,
            "overflow": null,
            "overflow_x": null,
            "overflow_y": null,
            "padding": null,
            "right": null,
            "top": null,
            "visibility": null,
            "width": null
          }
        },
        "4be857ccf05f4bb9b92e3a6deef704e7": {
          "model_module": "@jupyter-widgets/controls",
          "model_module_version": "1.5.0",
          "model_name": "HTMLModel",
          "state": {
            "_dom_classes": [],
            "_model_module": "@jupyter-widgets/controls",
            "_model_module_version": "1.5.0",
            "_model_name": "HTMLModel",
            "_view_count": null,
            "_view_module": "@jupyter-widgets/controls",
            "_view_module_version": "1.5.0",
            "_view_name": "HTMLView",
            "description": "",
            "description_tooltip": null,
            "layout": "IPY_MODEL_4af022d65a5b405899de554a8b0e6ce8",
            "placeholder": "​",
            "style": "IPY_MODEL_5ec108775f6f4b789391a38e9bd59c89",
            "value": "Epoch 0:   0%"
          }
        },
        "5ec108775f6f4b789391a38e9bd59c89": {
          "model_module": "@jupyter-widgets/controls",
          "model_module_version": "1.5.0",
          "model_name": "DescriptionStyleModel",
          "state": {
            "_model_module": "@jupyter-widgets/controls",
            "_model_module_version": "1.5.0",
            "_model_name": "DescriptionStyleModel",
            "_view_count": null,
            "_view_module": "@jupyter-widgets/base",
            "_view_module_version": "1.2.0",
            "_view_name": "StyleView",
            "description_width": ""
          }
        },
        "9de3008bfabc446c8575676e0cb71323": {
          "model_module": "@jupyter-widgets/base",
          "model_module_version": "1.2.0",
          "model_name": "LayoutModel",
          "state": {
            "_model_module": "@jupyter-widgets/base",
            "_model_module_version": "1.2.0",
            "_model_name": "LayoutModel",
            "_view_count": null,
            "_view_module": "@jupyter-widgets/base",
            "_view_module_version": "1.2.0",
            "_view_name": "LayoutView",
            "align_content": null,
            "align_items": null,
            "align_self": null,
            "border": null,
            "bottom": null,
            "display": null,
            "flex": "2",
            "flex_flow": null,
            "grid_area": null,
            "grid_auto_columns": null,
            "grid_auto_flow": null,
            "grid_auto_rows": null,
            "grid_column": null,
            "grid_gap": null,
            "grid_row": null,
            "grid_template_areas": null,
            "grid_template_columns": null,
            "grid_template_rows": null,
            "height": null,
            "justify_content": null,
            "justify_items": null,
            "left": null,
            "margin": null,
            "max_height": null,
            "max_width": null,
            "min_height": null,
            "min_width": null,
            "object_fit": null,
            "object_position": null,
            "order": null,
            "overflow": null,
            "overflow_x": null,
            "overflow_y": null,
            "padding": null,
            "right": null,
            "top": null,
            "visibility": null,
            "width": null
          }
        },
        "c3c448f7c4f6444e98cfc60c24a373a9": {
          "model_module": "@jupyter-widgets/controls",
          "model_module_version": "1.5.0",
          "model_name": "HTMLModel",
          "state": {
            "_dom_classes": [],
            "_model_module": "@jupyter-widgets/controls",
            "_model_module_version": "1.5.0",
            "_model_name": "HTMLModel",
            "_view_count": null,
            "_view_module": "@jupyter-widgets/controls",
            "_view_module_version": "1.5.0",
            "_view_name": "HTMLView",
            "description": "",
            "description_tooltip": null,
            "layout": "IPY_MODEL_15f0b06678c347bdbb41f9f78f2d41c9",
            "placeholder": "​",
            "style": "IPY_MODEL_2c15079f5c864eef9d305a146a4edb05",
            "value": " 0/54 [00:00&lt;?, ?it/s]"
          }
        }
      }
    }
  },
  "nbformat": 4,
  "nbformat_minor": 0
}
