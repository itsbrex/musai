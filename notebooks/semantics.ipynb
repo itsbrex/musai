{
 "cells": [
  {
   "cell_type": "code",
   "execution_count": null,
   "metadata": {},
   "outputs": [],
   "source": [
    "import json\n",
    "import torch\n",
    "import torch.nn.functional as F\n",
    "import os\n",
    "import sys\n",
    "import random\n",
    "import matplotlib.pyplot as plt\n",
    "from torch.nn.utils.rnn import pad_sequence\n",
    "from tqdm import tqdm\n",
    "from pathlib import Path\n",
    "from loguru import logger\n",
    "from importlib import reload\n",
    "\n",
    "device = torch.device('cuda:0') if torch.cuda.is_available() else torch.device('cpu')\n",
    "\n",
    "os.chdir('/home/nico/dev/projects/ai/musai')\n",
    "\n",
    "sys.path.append('./src/tools')\n",
    "\n",
    "import tokenizer\n",
    "\n",
    "reload(tokenizer)\n",
    "\n",
    "from tokenizer import get_tokenizer, parse_bpe_tokens, TOKEN_PARAMS_NAME\n",
    "\n",
    "TOKENS_PATH = '/home/nico/data/ai/models/midi/sequences/bpe'\n",
    "TOKENS_FILE_PATHS = list(Path(TOKENS_PATH).glob('*.json'))\n"
   ]
  },
  {
   "cell_type": "code",
   "execution_count": null,
   "metadata": {},
   "outputs": [],
   "source": [
    "device"
   ]
  },
  {
   "cell_type": "code",
   "execution_count": null,
   "metadata": {},
   "outputs": [],
   "source": [
    "TOKENIZER = get_tokenizer(params=f'{TOKENS_PATH}/{TOKEN_PARAMS_NAME}')\n",
    "PITCHES = [v for k, v in TOKENIZER.vocab.items() if 'Pitch' in k]"
   ]
  },
  {
   "cell_type": "code",
   "execution_count": null,
   "metadata": {},
   "outputs": [],
   "source": [
    "len(TOKENIZER)"
   ]
  },
  {
   "cell_type": "code",
   "execution_count": null,
   "metadata": {},
   "outputs": [],
   "source": [
    "logger.info('Semantical processing: {collection_size} documents', collection_size=len(\n",
    "    TOKENS_FILE_PATHS))\n",
    "\n",
    "random.shuffle(TOKENS_FILE_PATHS)\n",
    "\n",
    "bag_of_hists = []\n",
    "\n",
    "for token_file in tqdm(list(TOKENS_FILE_PATHS)):\n",
    "    try:\n",
    "        tokens = json.load(open(token_file, 'r'))['ids']\n",
    "\n",
    "        # filter tokens\n",
    "        # tokens = [t for t in tokens if t in PITCHES]\n",
    "        \n",
    "        # extract pitch histogram\n",
    "        tensor = torch.tensor(tokens).to(torch.float)\n",
    "        # tensor_hist = tensor.histc(bins=len(PITCHES))\n",
    "        tensor_hist = tensor.histc(bins=len(TOKENIZER))\n",
    "\n",
    "        bag_of_hists.append(tensor_hist)\n",
    "    except KeyboardInterrupt:\n",
    "        break\n",
    "    except Exception as e:\n",
    "        logger.error(e)\n",
    "\n",
    "bag_of_hists = torch.stack(bag_of_hists)\n",
    "bag_of_hists_normalized = F.normalize(bag_of_hists, dim=0)\n"
   ]
  },
  {
   "cell_type": "code",
   "execution_count": null,
   "metadata": {},
   "outputs": [],
   "source": [
    "tokens = json.load(open(\n",
    "    '/home/nico/data/ai/models/midi/sequences/bpe/130_smss_crystalinedreams_chibiusastheme1_snes_mid.json', 'r'))['ids']\n",
    "seq = parse_bpe_tokens(TOKENIZER, tokens)\n",
    "\n",
    "seq[:32]\n"
   ]
  },
  {
   "cell_type": "code",
   "execution_count": null,
   "metadata": {},
   "outputs": [],
   "source": [
    "means = torch.stack([torch.mean(v) for v in bag_of_hists_normalized.t()])\n",
    "distances = torch.FloatTensor([torch.mean((v - means) ** 2).item()\n",
    "             for v in bag_of_hists_normalized])\n",
    "\n",
    "distances.shape"
   ]
  },
  {
   "cell_type": "code",
   "execution_count": null,
   "metadata": {},
   "outputs": [],
   "source": [
    "mean = torch.mean(distances)\n",
    "plt.plot(distances)"
   ]
  },
  {
   "cell_type": "code",
   "execution_count": null,
   "metadata": {},
   "outputs": [],
   "source": [
    "ixs = [x[0] for x in list(filter(lambda d: d[1]<=(mean+(mean*.15)) and d[1] >= (mean-(mean*.15)), enumerate(distances)))]\n",
    "\n",
    "random.shuffle(ixs)\n",
    "\n",
    "TOKENS_FILE_PATHS[ixs[0]]"
   ]
  },
  {
   "cell_type": "code",
   "execution_count": null,
   "metadata": {},
   "outputs": [],
   "source": [
    "print('%.8f' % float(mean))"
   ]
  }
 ],
 "metadata": {
  "kernelspec": {
   "display_name": "Python 3 (ipykernel)",
   "language": "python",
   "name": "python3"
  },
  "language_info": {
   "codemirror_mode": {
    "name": "ipython",
    "version": 3
   },
   "file_extension": ".py",
   "mimetype": "text/x-python",
   "name": "python",
   "nbconvert_exporter": "python",
   "pygments_lexer": "ipython3",
   "version": "3.10.11"
  },
  "orig_nbformat": 4,
  "vscode": {
   "interpreter": {
    "hash": "324c59c51086f4574d8cdca1e3c0b1230dd2abd272c806cb05bd1db673024182"
   }
  }
 },
 "nbformat": 4,
 "nbformat_minor": 2
}
