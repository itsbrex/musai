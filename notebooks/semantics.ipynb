{
 "cells": [
  {
   "cell_type": "code",
   "execution_count": 1,
   "metadata": {},
   "outputs": [],
   "source": [
    "import json\n",
    "import torch\n",
    "import torch.nn.functional as F\n",
    "import os\n",
    "import sys\n",
    "import random\n",
    "import matplotlib.pyplot as plt\n",
    "from torch.nn.utils.rnn import pad_sequence\n",
    "from tqdm import tqdm\n",
    "from pathlib import Path\n",
    "from loguru import logger\n",
    "from importlib import reload\n",
    "\n",
    "device = torch.device('cuda:0') if torch.cuda.is_available() else torch.device('cpu')\n",
    "\n",
    "os.chdir('/home/nico/dev/projects/ai/musai')\n",
    "\n",
    "sys.path.append('./src/tools')\n",
    "\n",
    "import tokenizer\n",
    "\n",
    "reload(tokenizer)\n",
    "\n",
    "from tokenizer import get_tokenizer, parse_bpe_tokens, TOKEN_PARAMS_NAME\n",
    "\n",
    "TOKENS_PATH = '/home/nico/data/ai/models/midi/sequences/bpe'\n",
    "TOKENS_FILE_PATHS = list(Path(TOKENS_PATH).glob('*.json'))\n"
   ]
  },
  {
   "cell_type": "code",
   "execution_count": 2,
   "metadata": {},
   "outputs": [
    {
     "data": {
      "text/plain": [
       "device(type='cuda', index=0)"
      ]
     },
     "execution_count": 2,
     "metadata": {},
     "output_type": "execute_result"
    }
   ],
   "source": [
    "device"
   ]
  },
  {
   "cell_type": "code",
   "execution_count": 3,
   "metadata": {},
   "outputs": [
    {
     "name": "stderr",
     "output_type": "stream",
     "text": [
      "\u001b[32m2023-06-17 17:21:54.446\u001b[0m | \u001b[1mINFO    \u001b[0m | \u001b[36mtokenizer\u001b[0m:\u001b[36mget_tokenizer\u001b[0m:\u001b[36m180\u001b[0m - \u001b[1mTokenizer initialized. Using MMM\u001b[0m\n"
     ]
    }
   ],
   "source": [
    "TOKENIZER = get_tokenizer(params=f'{TOKENS_PATH}/{TOKEN_PARAMS_NAME}')\n",
    "PITCHES = [v for k, v in TOKENIZER.vocab.items() if 'Pitch' in k]"
   ]
  },
  {
   "cell_type": "code",
   "execution_count": 4,
   "metadata": {},
   "outputs": [
    {
     "data": {
      "text/plain": [
       "635"
      ]
     },
     "execution_count": 4,
     "metadata": {},
     "output_type": "execute_result"
    }
   ],
   "source": [
    "len(TOKENIZER)"
   ]
  },
  {
   "cell_type": "code",
   "execution_count": 24,
   "metadata": {},
   "outputs": [
    {
     "name": "stderr",
     "output_type": "stream",
     "text": [
      "\u001b[32m2023-06-17 18:03:26.322\u001b[0m | \u001b[1mINFO    \u001b[0m | \u001b[36m__main__\u001b[0m:\u001b[36m<module>\u001b[0m:\u001b[36m1\u001b[0m - \u001b[1mSemantical processing: 2992 documents\u001b[0m\n",
      "100%|█████████████████████████████████████████████████████| 2992/2992 [00:06<00:00, 437.40it/s]\n"
     ]
    }
   ],
   "source": [
    "logger.info('Semantical processing: {collection_size} documents', collection_size=len(\n",
    "    TOKENS_FILE_PATHS))\n",
    "\n",
    "random.shuffle(TOKENS_FILE_PATHS)\n",
    "\n",
    "bag_of_hists = []\n",
    "\n",
    "for token_file in tqdm(list(TOKENS_FILE_PATHS)):\n",
    "    try:\n",
    "        tokens = json.load(open(token_file, 'r'))['ids']\n",
    "\n",
    "        # filter tokens\n",
    "        # tokens = [t for t in tokens if t in PITCHES]\n",
    "        \n",
    "        # extract pitch histogram\n",
    "        tensor = torch.tensor(tokens).to(torch.float)\n",
    "        # tensor_hist = tensor.histc(bins=len(PITCHES))\n",
    "        tensor_hist = tensor.histc(bins=len(TOKENIZER))\n",
    "\n",
    "        bag_of_hists.append(tensor_hist)\n",
    "    except KeyboardInterrupt:\n",
    "        break\n",
    "    except Exception as e:\n",
    "        logger.error(e)\n",
    "\n",
    "bag_of_hists = torch.stack(bag_of_hists)\n",
    "bag_of_hists_normalized = F.normalize(bag_of_hists, dim=0)\n"
   ]
  },
  {
   "cell_type": "code",
   "execution_count": 25,
   "metadata": {},
   "outputs": [
    {
     "data": {
      "text/plain": [
       "torch.Size([2992])"
      ]
     },
     "execution_count": 25,
     "metadata": {},
     "output_type": "execute_result"
    }
   ],
   "source": [
    "means = torch.stack([torch.mean(v) for v in bag_of_hists_normalized.t()])\n",
    "distances = torch.FloatTensor([torch.mean((v - means) ** 2).item()\n",
    "             for v in bag_of_hists_normalized])\n",
    "\n",
    "distances.shape"
   ]
  },
  {
   "cell_type": "code",
   "execution_count": 26,
   "metadata": {},
   "outputs": [
    {
     "data": {
      "text/plain": [
       "[<matplotlib.lines.Line2D at 0x7f9cd11aa950>]"
      ]
     },
     "execution_count": 26,
     "metadata": {},
     "output_type": "execute_result"
    },
    {
     "data": {
      "image/png": "[encoded data removed]",
      "text/plain": [
       "<Figure size 640x480 with 1 Axes>"
      ]
     },
     "metadata": {},
     "output_type": "display_data"
    }
   ],
   "source": [
    "mean = torch.mean(distances)\n",
    "plt.plot(distances)"
   ]
  },
  {
   "cell_type": "code",
   "execution_count": 30,
   "metadata": {},
   "outputs": [
    {
     "data": {
      "text/plain": [
       "PosixPath('/home/nico/data/ai/models/midi/sequences/bpe/130_remember_the_fallen_mid.json')"
      ]
     },
     "execution_count": 30,
     "metadata": {},
     "output_type": "execute_result"
    }
   ],
   "source": [
    "ixs = [x[0] for x in list(filter(lambda d: d[1]<=(mean+(mean*.15)) and d[1] >= (mean-(mean*.15)), enumerate(distances)))]\n",
    "\n",
    "random.shuffle(ixs)\n",
    "\n",
    "TOKENS_FILE_PATHS[ixs[0]]"
   ]
  },
  {
   "cell_type": "code",
   "execution_count": 28,
   "metadata": {},
   "outputs": [
    {
     "name": "stdout",
     "output_type": "stream",
     "text": [
      "0.00031965\n"
     ]
    }
   ],
   "source": [
    "print('%.8f' % float(mean))"
   ]
  }
 ],
 "metadata": {
  "kernelspec": {
   "display_name": "Python 3 (ipykernel)",
   "language": "python",
   "name": "python3"
  },
  "language_info": {
   "codemirror_mode": {
    "name": "ipython",
    "version": 3
   },
   "file_extension": ".py",
   "mimetype": "text/x-python",
   "name": "python",
   "nbconvert_exporter": "python",
   "pygments_lexer": "ipython3",
   "version": "3.10.11"
  },
  "orig_nbformat": 4,
  "vscode": {
   "interpreter": {
    "hash": "324c59c51086f4574d8cdca1e3c0b1230dd2abd272c806cb05bd1db673024182"
   }
  }
 },
 "nbformat": 4,
 "nbformat_minor": 2
}
