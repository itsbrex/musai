{
 "cells": [
  {
   "cell_type": "code",
   "execution_count": 1,
   "metadata": {},
   "outputs": [],
   "source": [
    "import json\n",
    "import torch\n",
    "import torch.nn.functional as F\n",
    "import os\n",
    "import sys\n",
    "import random\n",
    "import matplotlib.pyplot as plt\n",
    "from torch.nn.utils.rnn import pad_sequence\n",
    "from tqdm import tqdm\n",
    "from pathlib import Path\n",
    "from loguru import logger\n",
    "from importlib import reload\n",
    "\n",
    "device = torch.device('cuda:0') if torch.cuda.is_available() else torch.device('cpu')\n",
    "\n",
    "os.chdir('/home/nico/dev/projects/ai/musai')\n",
    "\n",
    "sys.path.append('./src/tools')\n",
    "\n",
    "import tokenizer\n",
    "\n",
    "reload(tokenizer)\n",
    "\n",
    "from tokenizer import get_tokenizer, TOKEN_PARAMS_NAME\n",
    "\n",
    "TOKENS_PATH = '/home/nico/data/ai/models/midi/sequences/bpe'\n",
    "TOKENS_FILE_PATHS = list(Path(TOKENS_PATH).glob('*.json'))\n"
   ]
  },
  {
   "cell_type": "code",
   "execution_count": 2,
   "metadata": {},
   "outputs": [
    {
     "data": {
      "text/plain": [
       "device(type='cuda', index=0)"
      ]
     },
     "execution_count": 2,
     "metadata": {},
     "output_type": "execute_result"
    }
   ],
   "source": [
    "device"
   ]
  },
  {
   "cell_type": "code",
   "execution_count": 3,
   "metadata": {},
   "outputs": [
    {
     "name": "stderr",
     "output_type": "stream",
     "text": [
      "\u001b[32m2023-06-17 15:49:35.518\u001b[0m | \u001b[1mINFO    \u001b[0m | \u001b[36mtokenizer\u001b[0m:\u001b[36mget_tokenizer\u001b[0m:\u001b[36m171\u001b[0m - \u001b[1mTokenizer initialized. Using MMM\u001b[0m\n"
     ]
    }
   ],
   "source": [
    "TOKENIZER = get_tokenizer(params=f'{TOKENS_PATH}/{TOKEN_PARAMS_NAME}')\n",
    "PITCHES = [v for k, v in TOKENIZER.vocab.items() if 'Pitch' in k]"
   ]
  },
  {
   "cell_type": "code",
   "execution_count": 4,
   "metadata": {},
   "outputs": [
    {
     "data": {
      "text/plain": [
       "635"
      ]
     },
     "execution_count": 4,
     "metadata": {},
     "output_type": "execute_result"
    }
   ],
   "source": [
    "len(TOKENIZER)"
   ]
  },
  {
   "cell_type": "code",
   "execution_count": 10,
   "metadata": {},
   "outputs": [
    {
     "name": "stderr",
     "output_type": "stream",
     "text": [
      "\u001b[32m2023-06-17 15:58:36.948\u001b[0m | \u001b[1mINFO    \u001b[0m | \u001b[36m__main__\u001b[0m:\u001b[36m<module>\u001b[0m:\u001b[36m1\u001b[0m - \u001b[1mSemantical processing: 2992 documents\u001b[0m\n",
      "100%|█████████████████████████████████████████████████████| 2992/2992 [00:06<00:00, 444.71it/s]\n"
     ]
    }
   ],
   "source": [
    "logger.info('Semantical processing: {collection_size} documents', collection_size=len(\n",
    "    TOKENS_FILE_PATHS))\n",
    "\n",
    "random.shuffle(TOKENS_FILE_PATHS)\n",
    "\n",
    "bag_of_hists = []\n",
    "\n",
    "for token_file in tqdm(list(TOKENS_FILE_PATHS)):\n",
    "    try:\n",
    "        tokens = json.load(open(token_file, 'r'))['ids']\n",
    "\n",
    "        # filter tokens\n",
    "        # tokens = [t for t in tokens if t in PITCHES]\n",
    "        \n",
    "        # extract pitch histogram\n",
    "        tensor = torch.tensor(tokens).to(torch.float)\n",
    "        # tensor_hist = tensor.histc(bins=len(PITCHES))\n",
    "        tensor_hist = tensor.histc(bins=len(TOKENIZER))\n",
    "\n",
    "        bag_of_hists.append(tensor_hist)\n",
    "    except KeyboardInterrupt:\n",
    "        break\n",
    "    except Exception as e:\n",
    "        logger.error(e)\n",
    "\n",
    "bag_of_hists = torch.stack(bag_of_hists)\n",
    "bag_of_hists_normalized = F.normalize(bag_of_hists, dim=0)\n"
   ]
  },
  {
   "cell_type": "code",
   "execution_count": 15,
   "metadata": {},
   "outputs": [
    {
     "data": {
      "text/plain": [
       "['Track_Start',\n",
       " 'Program_33',\n",
       " 'NoteDensity_0',\n",
       " 'Bar_Start',\n",
       " 'TimeSig_4/4',\n",
       " 'Bar_End',\n",
       " 'Bar_Start',\n",
       " 'Bar_End',\n",
       " 'Bar_Start',\n",
       " 'Bar_End',\n",
       " 'Bar_Start',\n",
       " 'Pitch_36',\n",
       " 'Velocity_89',\n",
       " 'Duration_0.2.8',\n",
       " 'TimeShift_0.4.8',\n",
       " 'Pitch_36',\n",
       " 'Velocity_89',\n",
       " 'Duration_0.2.8',\n",
       " 'TimeShift_0.4.8',\n",
       " 'Pitch_36',\n",
       " 'Velocity_89',\n",
       " 'Duration_0.2.8',\n",
       " 'TimeShift_0.4.8',\n",
       " 'Pitch_36',\n",
       " 'Velocity_89',\n",
       " 'Duration_0.2.8',\n",
       " 'TimeShift_0.4.8',\n",
       " 'Pitch_31',\n",
       " 'Velocity_89',\n",
       " 'Duration_0.2.8',\n",
       " 'TimeShift_0.4.8',\n",
       " 'Pitch_31']"
      ]
     },
     "execution_count": 15,
     "metadata": {},
     "output_type": "execute_result"
    }
   ],
   "source": [
    "from itertools import chain\n",
    "\n",
    "tokens = json.load(open(\n",
    "    '/home/nico/data/ai/models/midi/sequences/bpe/130_smss_crystalinedreams_chibiusastheme1_snes_mid.json', 'r'))['ids']\n",
    "seq = [next(key for key, value in TOKENIZER.vocab_bpe.items() if value == tid)\n",
    "       for tid in tokens]\n",
    "tseq = [TOKENIZER._vocab_bpe_bytes_to_tokens[bpetoken] for bpetoken in seq]\n",
    "\n",
    "list(chain.from_iterable(tseq))[:32]\n"
   ]
  },
  {
   "cell_type": "code",
   "execution_count": 12,
   "metadata": {},
   "outputs": [
    {
     "data": {
      "text/plain": [
       "torch.Size([2992])"
      ]
     },
     "execution_count": 12,
     "metadata": {},
     "output_type": "execute_result"
    }
   ],
   "source": [
    "means = torch.stack([torch.mean(v) for v in bag_of_hists_normalized.t()])\n",
    "distances = torch.FloatTensor([torch.mean((v - means) ** 2).item()\n",
    "             for v in bag_of_hists_normalized])\n",
    "\n",
    "distances.shape"
   ]
  },
  {
   "cell_type": "code",
   "execution_count": 13,
   "metadata": {},
   "outputs": [
    {
     "data": {
      "text/plain": [
       "[<matplotlib.lines.Line2D at 0x7fb740bc6560>]"
      ]
     },
     "execution_count": 13,
     "metadata": {},
     "output_type": "execute_result"
    },
    {
     "data": {
      "image/png": "[encoded data removed]",
      "text/plain": [
       "<Figure size 640x480 with 1 Axes>"
      ]
     },
     "metadata": {},
     "output_type": "display_data"
    }
   ],
   "source": [
    "mean = torch.mean(distances)\n",
    "plt.plot(distances)"
   ]
  },
  {
   "cell_type": "code",
   "execution_count": 14,
   "metadata": {},
   "outputs": [
    {
     "data": {
      "text/plain": [
       "PosixPath('/home/nico/data/ai/models/midi/sequences/bpe/130_smss_crystalinedreams_chibiusastheme1_snes_mid.json')"
      ]
     },
     "execution_count": 14,
     "metadata": {},
     "output_type": "execute_result"
    }
   ],
   "source": [
    "ixs = [x[0] for x in list(filter(lambda d: d[1]<=(mean+(mean*.15)) and d[1] >= (mean-(mean*.15)), enumerate(distances)))]\n",
    "\n",
    "random.shuffle(ixs)\n",
    "\n",
    "TOKENS_FILE_PATHS[ixs[0]]"
   ]
  },
  {
   "cell_type": "code",
   "execution_count": null,
   "metadata": {},
   "outputs": [],
   "source": [
    "print('%.8f' % float(mean))"
   ]
  }
 ],
 "metadata": {
  "kernelspec": {
   "display_name": "Python 3 (ipykernel)",
   "language": "python",
   "name": "python3"
  },
  "language_info": {
   "codemirror_mode": {
    "name": "ipython",
    "version": 3
   },
   "file_extension": ".py",
   "mimetype": "text/x-python",
   "name": "python",
   "nbconvert_exporter": "python",
   "pygments_lexer": "ipython3",
   "version": "3.10.11"
  },
  "orig_nbformat": 4,
  "vscode": {
   "interpreter": {
    "hash": "324c59c51086f4574d8cdca1e3c0b1230dd2abd272c806cb05bd1db673024182"
   }
  }
 },
 "nbformat": 4,
 "nbformat_minor": 2
}
