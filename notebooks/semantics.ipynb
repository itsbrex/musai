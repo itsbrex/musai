{
 "cells": [
  {
   "cell_type": "code",
   "execution_count": 1,
   "metadata": {},
   "outputs": [],
   "source": [
    "import json\n",
    "import torch\n",
    "import torch.nn.functional as F\n",
    "import os\n",
    "import sys\n",
    "import matplotlib.pyplot as plt\n",
    "from torch.nn.utils.rnn import pad_sequence\n",
    "from tqdm import tqdm\n",
    "from pathlib import Path\n",
    "from loguru import logger\n",
    "from importlib import reload\n",
    "\n",
    "device = torch.device('cuda:0') if torch.cuda.is_available() else torch.device('cpu')\n",
    "\n",
    "os.chdir('/home/nico/dev/projects/ai/musai/notebooks')\n",
    "\n",
    "sys.path.append('../tools')\n",
    "\n",
    "import tokenizer\n",
    "\n",
    "reload(tokenizer)\n",
    "\n",
    "TOKENS_PATH = '/home/nico/data/ai/models/midi/drums/bpe'\n",
    "TOKENS_FILE_PATHS = list(Path(TOKENS_PATH).glob('*.json'))"
   ]
  },
  {
   "cell_type": "code",
   "execution_count": 2,
   "metadata": {},
   "outputs": [
    {
     "data": {
      "text/plain": [
       "device(type='cuda', index=0)"
      ]
     },
     "execution_count": 2,
     "metadata": {},
     "output_type": "execute_result"
    }
   ],
   "source": [
    "device"
   ]
  },
  {
   "cell_type": "code",
   "execution_count": 3,
   "metadata": {},
   "outputs": [
    {
     "name": "stderr",
     "output_type": "stream",
     "text": [
      "\u001b[32m2023-06-06 12:49:02.159\u001b[0m | \u001b[1mINFO    \u001b[0m | \u001b[36mtokenizer\u001b[0m:\u001b[36mget_tokenizer\u001b[0m:\u001b[36m164\u001b[0m - \u001b[1mTokenizer initialized. Using MMM\u001b[0m\n"
     ]
    }
   ],
   "source": [
    "TOKENIZER = tokenizer.get_tokenizer(params=f'{TOKENS_PATH}/{tokenizer.TOKEN_PARAMS_NAME}')\n",
    "PITCHES = [v for k, v in TOKENIZER.vocab.items() if 'Pitch' in k]"
   ]
  },
  {
   "cell_type": "code",
   "execution_count": 4,
   "metadata": {},
   "outputs": [
    {
     "name": "stderr",
     "output_type": "stream",
     "text": [
      "\u001b[32m2023-06-06 12:49:15.286\u001b[0m | \u001b[1mINFO    \u001b[0m | \u001b[36m__main__\u001b[0m:\u001b[36m<module>\u001b[0m:\u001b[36m1\u001b[0m - \u001b[1mSemantical processing: 15940 documents\u001b[0m\n",
      "100%|██████████| 15940/15940 [00:49<00:00, 323.96it/s]\n"
     ]
    }
   ],
   "source": [
    "logger.info('Semantical processing: {collection_size} documents', collection_size=len(\n",
    "    TOKENS_FILE_PATHS))\n",
    "\n",
    "bag_of_hists = []\n",
    "\n",
    "for token_file in tqdm(list(TOKENS_FILE_PATHS)):\n",
    "    try:\n",
    "        tokens = json.load(open(token_file, 'r'))['ids']\n",
    "\n",
    "        # filter tokens\n",
    "        tokens = [t for t in tokens if t in PITCHES]\n",
    "        \n",
    "        # extract pitch histogram\n",
    "        tensor = torch.tensor(tokens).to(torch.float)\n",
    "        tensor_hist = tensor.histc(bins=len(PITCHES))\n",
    "\n",
    "        bag_of_hists.append(tensor_hist)\n",
    "    except KeyboardInterrupt:\n",
    "        break\n",
    "    except Exception as e:\n",
    "        logger.error(e)\n",
    "\n",
    "bag_of_hists = torch.stack(bag_of_hists)\n",
    "bag_of_hists_normalized = F.normalize(bag_of_hists, dim=0)\n"
   ]
  },
  {
   "cell_type": "code",
   "execution_count": 5,
   "metadata": {},
   "outputs": [
    {
     "data": {
      "text/plain": [
       "tensor([3.3163e-06, 3.4447e-05, 4.4522e-05,  ..., 2.4555e-05, 6.2397e-05,\n",
       "        9.5263e-06])"
      ]
     },
     "execution_count": 5,
     "metadata": {},
     "output_type": "execute_result"
    }
   ],
   "source": [
    "pitches_m = torch.stack([torch.mean(v) for v in bag_of_hists_normalized.t()])\n",
    "distances = torch.FloatTensor([torch.mean((v - pitches_m) ** 2).item()\n",
    "             for v in bag_of_hists_normalized])\n",
    "\n",
    "distances"
   ]
  },
  {
   "cell_type": "code",
   "execution_count": 6,
   "metadata": {},
   "outputs": [
    {
     "data": {
      "text/plain": [
       "[<matplotlib.lines.Line2D at 0x7f63fb24ffd0>]"
      ]
     },
     "execution_count": 6,
     "metadata": {},
     "output_type": "execute_result"
    },
    {
     "data": {
      "image/png": "[encoded data removed]",
      "text/plain": [
       "<Figure size 640x480 with 1 Axes>"
      ]
     },
     "metadata": {},
     "output_type": "display_data"
    }
   ],
   "source": [
    "plt.plot(distances)"
   ]
  }
 ],
 "metadata": {
  "kernelspec": {
   "display_name": "Python 3.10.9 ('midigpt')",
   "language": "python",
   "name": "python3"
  },
  "language_info": {
   "codemirror_mode": {
    "name": "ipython",
    "version": 3
   },
   "file_extension": ".py",
   "mimetype": "text/x-python",
   "name": "python",
   "nbconvert_exporter": "python",
   "pygments_lexer": "ipython3",
   "version": "3.10.11"
  },
  "orig_nbformat": 4,
  "vscode": {
   "interpreter": {
    "hash": "324c59c51086f4574d8cdca1e3c0b1230dd2abd272c806cb05bd1db673024182"
   }
  }
 },
 "nbformat": 4,
 "nbformat_minor": 2
}
