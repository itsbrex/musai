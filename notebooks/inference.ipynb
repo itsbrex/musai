{
 "cells": [
  {
   "cell_type": "code",
   "execution_count": null,
   "metadata": {},
   "outputs": [],
   "source": [
    "import datetime\n",
    "import sys\n",
    "import os\n",
    "import torch\n",
    "import numpy as np\n",
    "import random\n",
    "from pathlib import Path\n",
    "from collections import namedtuple\n",
    "from miditok import REMIPlus, MMM\n",
    "from miditok.constants import ADDITIONAL_TOKENS\n",
    "from torch.nn import functional as F\n",
    "from importlib import reload"
   ]
  },
  {
   "cell_type": "code",
   "execution_count": null,
   "metadata": {},
   "outputs": [],
   "source": [
    "DEVICE = torch.device('cuda:0' if torch.cuda.is_available() else 'cpu')\n",
    "CTX_LEN = 1024\n",
    "PRECISION = 'bf16'\n",
    "\n",
    "os.environ['RWKV_T_MAX'] = str(CTX_LEN)\n",
    "os.environ['RWKV_FLOAT_MODE'] = PRECISION\n",
    "\n",
    "sys.path.append('./src/model')\n",
    "\n",
    "os.getcwd()"
   ]
  },
  {
   "cell_type": "code",
   "execution_count": null,
   "metadata": {},
   "outputs": [],
   "source": [
    "from runner import RWKV_RNN"
   ]
  },
  {
   "cell_type": "code",
   "execution_count": null,
   "metadata": {},
   "outputs": [],
   "source": [
    "PROJ_NAME = 'techno'\n",
    "IS_BPE = True\n",
    "TOKENS_PATH = f\"/home/nico/data/ai/models/midi/{PROJ_NAME}{'/bpe' if IS_BPE else ''}\"\n",
    "\n",
    "Path(f'./out/{PROJ_NAME}').mkdir(parents=True, exist_ok=True)\n",
    "\n",
    "BINS_VELOCITY = (24)\n",
    "BINS_TEMPO = (24)\n",
    "\n",
    "additional_tokens = ADDITIONAL_TOKENS\n",
    "additional_tokens['Chord'] = True\n",
    "additional_tokens['TimeSignature'] = True\n",
    "additional_tokens['Program'] = True\n",
    "additional_tokens['nb_tempos'] = BINS_TEMPO\n",
    "TOKENIZER = MMM(\n",
    "    additional_tokens=additional_tokens, \n",
    "    params=f'{TOKENS_PATH}/token_params.cfg',\n",
    "    nb_velocities=BINS_VELOCITY\n",
    ")\n",
    "\n",
    "ORIG_VOCAB_SIZE = len(TOKENIZER.vocab)\n",
    "BPE_VOCAB_SIZE = int(ORIG_VOCAB_SIZE * 1.25)\n",
    "\n",
    "(ORIG_VOCAB_SIZE, BPE_VOCAB_SIZE, len(TOKENIZER))"
   ]
  },
  {
   "cell_type": "code",
   "execution_count": null,
   "metadata": {},
   "outputs": [],
   "source": [
    "N_EMBED = 768\n",
    "N_LAYER = 10\n",
    "CTX_LEN = 1024\n",
    "\n",
    "params = {\n",
    "    'ctx_len': CTX_LEN,\n",
    "    'n_embd': N_EMBED,\n",
    "    'n_layer': N_LAYER,\n",
    "}\n",
    "\n",
    "params_obj = namedtuple('RWKVParams', params.keys())(*params.values())"
   ]
  },
  {
   "cell_type": "code",
   "execution_count": null,
   "metadata": {},
   "outputs": [],
   "source": [
    "import matplotlib.pyplot as plt\n",
    "\n",
    "MAX_ITER = 1024*4\n",
    "\n",
    "# this is where we introduce some randomness\n",
    "NOISE_LEVEL = 0.55\n",
    "NOISE_FREQ = 10\n",
    "PHASE = 0\n",
    "\n",
    "\n",
    "def gen_sin_wave(total_iterations, min_value, max_value, noise_scale, noise_frequency, main_phase):\n",
    "    progress = np.linspace(0, 1, total_iterations)\n",
    "    main_wave = np.sin(2 * np.pi * progress + main_phase)\n",
    "    noise_wave = np.sin(2 * np.pi * noise_frequency * progress - main_phase / 2)\n",
    "    noise = noise_scale * noise_wave\n",
    "    values = min_value + (max_value - min_value) * \\\n",
    "        (1 + main_wave) / 2 + noise\n",
    "\n",
    "    # Clip values within the specified range\n",
    "    np.clip(values, min_value, max_value, out=values)\n",
    "\n",
    "    return values.tolist()\n",
    "\n",
    "\n",
    "temp_values = gen_sin_wave(MAX_ITER, 0.25, 0.7, NOISE_LEVEL, NOISE_FREQ, PHASE)\n",
    "top_p_values = gen_sin_wave(MAX_ITER, 0.5, 0.95, NOISE_LEVEL, NOISE_FREQ*2, PHASE+6)\n",
    "\n",
    "plt.plot(temp_values)\n",
    "plt.plot(top_p_values)"
   ]
  },
  {
   "cell_type": "code",
   "execution_count": null,
   "metadata": {},
   "outputs": [],
   "source": [
    "import types\n",
    "\n",
    "def sample_logits(logits, temperature=1.0, top_p=0.8):\n",
    "    # apply repetition penalty beforehand\n",
    "    \n",
    "    probs = F.softmax(logits, dim=-1).numpy()\n",
    "    sorted_probs = np.sort(probs)[::-1]\n",
    "    cumulative_probs = np.cumsum(sorted_probs)\n",
    "    cutoff = float(sorted_probs[np.argmax(cumulative_probs > top_p)])\n",
    "    probs[probs < cutoff] = 0\n",
    "\n",
    "    if temperature != 1.0:\n",
    "        probs = np.power(probs, 1.0 / temperature)\n",
    "    probs = probs / np.sum(probs)\n",
    "    out = np.random.choice(a=len(probs), p=probs)\n",
    "\n",
    "    return (out, sorted_probs)\n",
    "\n",
    "SEED = random.randint(1000, 10000)\n",
    "np.random.seed(SEED)\n",
    "\n",
    "args = types.SimpleNamespace()\n",
    "args.RUN_DEVICE = \"cuda\"\n",
    "args.FLOAT_MODE = \"bf16\"\n",
    "args.map_location = 'cpu'\n",
    "args.base_model = f'/home/nico/dev/projects/ai/musai/out/{PROJ_NAME}/rwkv-4'\n",
    "args.n_layer = params['n_layer']\n",
    "args.n_embd = params['n_embd']\n",
    "args.ctx_len = int(params['ctx_len'])\n",
    "\n",
    "model_rnn = RWKV_RNN(args)\n",
    "model_rnn.to(DEVICE)"
   ]
  },
  {
   "cell_type": "code",
   "execution_count": null,
   "metadata": {},
   "outputs": [],
   "source": [
    "# initial state\n",
    "pitches = [v for v in TOKENIZER.vocab.keys() if 'Pitch_' in v]\n",
    "\n",
    "random.shuffle(pitches)\n",
    "\n",
    "\"\"\"\n",
    "REMIPlus' note seq: Program-Pitch-Velocity-Duration\n",
    "Initial state should include at least one of such sequence to be reasonable.\n",
    "\"\"\"\n",
    "programs = [TOKENIZER.vocab[k]\n",
    "            for k in TOKENIZER.vocab.keys() if 'Program' in k]\n",
    "random.shuffle(programs)\n",
    "\n",
    "init_state = None\n",
    "out_tokens = []\n",
    "init_tokens = [\n",
    "    TOKENIZER.vocab['Track_Start'],\n",
    "    programs[0],\n",
    "    TOKENIZER.vocab['NoteDensity_0'],\n",
    "    TOKENIZER.vocab['Bar_Start'],\n",
    "    TOKENIZER.vocab[pitches[0]]\n",
    "]"
   ]
  },
  {
   "cell_type": "code",
   "execution_count": null,
   "metadata": {},
   "outputs": [],
   "source": [
    "for n in range(len(init_tokens)):\n",
    "    init_out, init_state = model_rnn.forward([init_tokens[n]], init_state)\n",
    "    out_token, sorted_probs = sample_logits(\n",
    "        init_out.detach().cpu(), temperature=temp_values[n], top_p=top_p_values[n])\n",
    "\n",
    "    out_tokens.append(out_token)\n",
    "\n",
    "for i in range(MAX_ITER):\n",
    "    init_out, init_state = model_rnn.forward(out_tokens[-1:], init_state)\n",
    "    out_token, sorted_probs = sample_logits(\n",
    "        init_out.detach().cpu(), temperature=temp_values[i], top_p=top_p_values[i])\n",
    "\n",
    "    out_tokens.append(out_token)\n"
   ]
  },
  {
   "cell_type": "code",
   "execution_count": null,
   "metadata": {},
   "outputs": [],
   "source": [
    "vocab_tokens = [key for key, value in TOKENIZER.vocab.items() if value in out_tokens]\n",
    "vocab_tokens"
   ]
  },
  {
   "cell_type": "code",
   "execution_count": null,
   "metadata": {},
   "outputs": [],
   "source": [
    "import re\n",
    "\n",
    "d = datetime.datetime.now().isoformat()\n",
    "d = re.sub(r'[^\\dT]{1,}', '-', d)\n",
    "fname = f'out/{PROJ_NAME}/{d}.mid'\n",
    "\n",
    "TOKENIZER(out_tokens).dump(fname)"
   ]
  }
 ],
 "metadata": {
  "kernelspec": {
   "display_name": "Python 3 (ipykernel)",
   "language": "python",
   "name": "python3"
  },
  "language_info": {
   "codemirror_mode": {
    "name": "ipython",
    "version": 3
   },
   "file_extension": ".py",
   "mimetype": "text/x-python",
   "name": "python",
   "nbconvert_exporter": "python",
   "pygments_lexer": "ipython3",
   "version": "3.10.11"
  },
  "orig_nbformat": 4,
  "vscode": {
   "interpreter": {
    "hash": "324c59c51086f4574d8cdca1e3c0b1230dd2abd272c806cb05bd1db673024182"
   }
  }
 },
 "nbformat": 4,
 "nbformat_minor": 2
}
